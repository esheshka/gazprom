{
  "cells": [
    {
      "cell_type": "markdown",
      "metadata": {
        "id": "view-in-github",
        "colab_type": "text"
      },
      "source": [
        "<a href=\"https://colab.research.google.com/github/esheshka/gazprom/blob/main/gazprom_pred_30s_v1.ipynb\" target=\"_parent\"><img src=\"https://colab.research.google.com/assets/colab-badge.svg\" alt=\"Open In Colab\"/></a>"
      ]
    },
    {
      "cell_type": "code",
      "execution_count": 1,
      "metadata": {
        "id": "0Iy9tBf_9-es"
      },
      "outputs": [],
      "source": [
        "from sklearn.model_selection import GridSearchCV\n",
        "import pandas as pd\n",
        "import numpy as np\n",
        "import os\n",
        "\n",
        "import scipy.ndimage\n",
        "%matplotlib inline\n",
        "import matplotlib.pyplot as plt\n",
        "from sklearn.model_selection import train_test_split\n",
        "from sklearn.linear_model import LogisticRegression\n",
        "from sklearn.neighbors import KNeighborsClassifier\n",
        "from sklearn.tree import DecisionTreeClassifier\n",
        "from sklearn.svm import SVC\n",
        "from sklearn.ensemble import RandomForestClassifier\n",
        "from sklearn.ensemble import RandomForestRegressor\n",
        "from sklearn.ensemble import GradientBoostingClassifier\n",
        "from sklearn.metrics import accuracy_score"
      ]
    },
    {
      "cell_type": "code",
      "execution_count": null,
      "metadata": {
        "id": "RUIjtcXq9_gq"
      },
      "outputs": [],
      "source": [
        "l0 = 0\n",
        "l1 = 200 + l0\n",
        "app = 10000000\n",
        "\n",
        "gazprom = open('gazprom_file070422.txt', 'r')\n",
        "gp_pre = [float(float(i)*100) for i in gazprom.read().replace(',', '.').split()]\n",
        "c = np.array([gp_pre[0:l1]])\n",
        "l2 = len(gp_pre)\n",
        "for i in range(l2 - l1):\n",
        "    c = np.append(c, [gp_pre[1 + i:l1+1+i]], axis=0)\n",
        "\n",
        "for c_f in os.listdir(\"c_fs\"):\n",
        "   with open(os.path.join(\"c_fs\", c_f), 'r') as f:\n",
        "        c_pre = [float(i) for i in f.read().split()]\n",
        "        print(c_pre)\n",
        "        l3 = len(c_pre)\n",
        "        for i in range(l3 - l1):\n",
        "            c = np.append(c, [c_pre[i:l1+i]], axis=0)\n",
        "\n",
        "\n",
        "l1n = int(l1/10)\n",
        "c = c[:, ::10]\n",
        "\n",
        "c_post = np.array([(c[:, 0] - c[:, 1]) * app / c[:, 0]])\n",
        "for i in range(l1n-2):\n",
        "    c_post = np.append(c_post, [(c[:, i+1] - c[:, i+2]) * app / c[:, i+1]], axis=0)\n",
        "\n",
        "\n",
        "c_f2 = c_post.T\n",
        "df = pd.DataFrame(c_f2).astype('int')\n",
        "\n",
        "change = 0\n",
        "for i in range(l0 + 1):\n",
        "    change += df[df.columns[-1 - i]].values\n",
        "labels = (change)\n",
        "labels_b = labels != 0\n",
        "labels = labels[labels_b]\n",
        "\n",
        "feature_matrix = df[df.columns[:-1 * l0 - 1]].values\n",
        "feature_matrix = feature_matrix[labels_b, :]"
      ]
    },
    {
      "cell_type": "code",
      "execution_count": null,
      "metadata": {
        "id": "2F_pfWZkCU9h"
      },
      "outputs": [],
      "source": [
        "lab = scipy.ndimage.zoom(labels[0:250], 3)\n",
        "plt.figure(figsize=(30, 10))\n",
        "plt.plot(lab)\n",
        "plt.show()"
      ]
    },
    {
      "cell_type": "code",
      "execution_count": null,
      "metadata": {
        "id": "WgVWPnCe_k9B"
      },
      "outputs": [],
      "source": [
        "train_feature_matrix, test_feature_matrix, train_labels, test_labels = train_test_split(feature_matrix, labels, test_size=0.4, random_state=42)"
      ]
    },
    {
      "cell_type": "code",
      "execution_count": null,
      "metadata": {
        "id": "uCYgIv4F--s1"
      },
      "outputs": [],
      "source": [
        "clf2 = KNeighborsClassifier()\n",
        "params2 = {\n",
        "    'n_neighbors': np.arange(1, 11),\n",
        "    'metric': ['manhattan', 'euclidean'],\n",
        "    'weights': ['uniform', 'distance']\n",
        "}\n",
        "\n",
        "clf1 = RandomForestClassifier()\n",
        "\n",
        "clf_grid = GridSearchCV(clf2, params2, cv=5, scoring='accuracy', n_jobs=-1)\n",
        "clf_grid.fit(train_feature_matrix, train_labels)\n",
        "clf1.fit(train_feature_matrix, train_labels)"
      ]
    },
    {
      "cell_type": "code",
      "execution_count": null,
      "metadata": {
        "id": "AJ2895gz--zk"
      },
      "outputs": [],
      "source": [
        "print(clf_grid.best_params_)\n",
        "y_pred1 = clf1.predict(test_feature_matrix)\n",
        "y_pred2 = clf_grid.predict(test_feature_matrix)\n",
        "\n",
        "\n",
        "y_pred_bool1 = (y_pred1 > 0) == (test_feature_matrix[:, -1 * l0 - 1] > 0)\n",
        "test_labels_bool1 = (test_labels > 0) == (test_feature_matrix[:, -1 * l0 - 1] > 0)\n",
        "\n",
        "y_pred_bool2 = (y_pred2 > 0) == (test_feature_matrix[:, -1 * l0 - 1] > 0)\n",
        "test_labels_bool2 = (test_labels > 0) == (test_feature_matrix[:, -1 * l0 - 1] > 0)\n",
        "\n",
        "print(accuracy_score(test_labels, y_pred1))\n",
        "print(accuracy_score(test_labels_bool1, y_pred_bool1))\n",
        "print(accuracy_score(test_labels[y_pred1 > 0] > 0, y_pred1[y_pred1 > 0] > 0))\n",
        "\n",
        "print(accuracy_score(test_labels, y_pred2))\n",
        "print(accuracy_score(test_labels_bool2, y_pred_bool2))\n",
        "print(accuracy_score(test_labels[y_pred2 > 0] > 0, y_pred2[y_pred2 > 0] > 0))\n",
        "\n",
        "alpha = 2000\n",
        "# Ответы с точностью до alpha\n",
        "ep = np.append([test_labels[(y_pred1 > test_labels - alpha) * (y_pred1 < test_labels + alpha)]], [y_pred1[(y_pred1 > test_labels - alpha) * (y_pred1 < test_labels + alpha)]], axis=0)\n",
        "print(\"Точность alpha - \", ep.shape[1] / test_labels.shape[0])\n",
        "print(ep.T)\n",
        "print(np.append([test_labels[y_pred2 == test_labels]], [y_pred2[y_pred2 == test_labels]], axis=0).T)\n",
        "print(np.append([test_labels[y_pred1 > 0]], [y_pred1[y_pred1 > 0]], axis=0).T)\n",
        "print(np.append([test_labels[y_pred2 > 0]], [y_pred2[y_pred2 > 0]], axis=0).T)"
      ]
    }
  ],
  "metadata": {
    "colab": {
      "provenance": [],
      "include_colab_link": true
    },
    "kernelspec": {
      "display_name": "Python 3",
      "name": "python3"
    },
    "language_info": {
      "name": "python"
    }
  },
  "nbformat": 4,
  "nbformat_minor": 0
}