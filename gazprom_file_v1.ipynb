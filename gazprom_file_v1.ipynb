{
  "nbformat": 4,
  "nbformat_minor": 0,
  "metadata": {
    "colab": {
      "provenance": [],
      "authorship_tag": "ABX9TyMhFZDXZuRYGJWGIck13QpG",
      "include_colab_link": true
    },
    "kernelspec": {
      "name": "python3",
      "display_name": "Python 3"
    },
    "language_info": {
      "name": "python"
    }
  },
  "cells": [
    {
      "cell_type": "markdown",
      "metadata": {
        "id": "view-in-github",
        "colab_type": "text"
      },
      "source": [
        "<a href=\"https://colab.research.google.com/github/esheshka/gazprom/blob/main/gazprom_file_v1.ipynb\" target=\"_parent\"><img src=\"https://colab.research.google.com/assets/colab-badge.svg\" alt=\"Open In Colab\"/></a>"
      ]
    },
    {
      "cell_type": "code",
      "execution_count": 4,
      "metadata": {
        "colab": {
          "base_uri": "https://localhost:8080/"
        },
        "id": "d0RfBwv8D8Et",
        "outputId": "1c30c34d-cc39-4464-eb48-523e943f4975"
      },
      "outputs": [
        {
          "output_type": "stream",
          "name": "stdout",
          "text": [
            "Requirement already satisfied: fake_useragent in /usr/local/lib/python3.10/dist-packages (1.5.1)\n",
            "['AllNewsImagesVideosForumsShoppingWebMore']\n"
          ]
        }
      ],
      "source": [
        "import requests\n",
        "!pip install fake_useragent\n",
        "import fake_useragent\n",
        "import time\n",
        "from bs4 import BeautifulSoup\n",
        "\n",
        "link1 = 'https://www.google.com/search?q=lkoh+shares&sxsrf=APq-WBtiJshHoGc32i-UM-c0pDe_z9Z4oA%3A1649712711426&ei=R55UYojNGYnYsAeB-x4&ved=0ahUKEwjIjJXh-oz3AhUJLOwKHYG9BwAQ4dUDCA4&uact=5&oq=gazp+shares&gs_lcp=Cgdnd3Mtd2l6EAMyBQgAEIAEOgcIABBHELADOgQIIxAnOgUIABDLAToECAAQQzoKCAAQgAQQhwIQFDoICAAQFhAKEB46BggAEBYQHkoECEEYAEoECEYYAFDZDljxhgFgv4gBaAFwAXgAgAGnAYgBogaSAQMyLjWYAQCgAQHIAQjAAQE&sclient=gws-wiz'\n",
        "\n",
        "gazprom070422 = []\n",
        "gazprom_file070422 = open(\"gazprom_file070422.txt\", \"a+\")\n",
        "\n",
        "for i in range(1):\n",
        "    user = fake_useragent.UserAgent().random\n",
        "\n",
        "    header = {'user-agent': user}\n",
        "    responce = requests.get(link1, headers=header).text\n",
        "    soup = BeautifulSoup(responce, 'lxml')\n",
        "    BNeaweiBp4iAP7Wnd = soup.find_all('div')[65]\n",
        "    gazprom070422.append(BNeaweiBp4iAP7Wnd.text.split(' ')[0])\n",
        "    print(gazprom070422)\n",
        "    gazprom_file070422.write(' ' + BNeaweiBp4iAP7Wnd.text.split(' ')[0])\n",
        "    time.sleep(3)\n",
        "\n",
        "gazprom_file070422.close()"
      ]
    }
  ]
}